{
 "cells": [
  {
   "cell_type": "code",
   "execution_count": 2,
   "id": "eligible-telescope",
   "metadata": {},
   "outputs": [],
   "source": [
    "import tradingview as tv\n",
    "import pandas as pd\n",
    "import numpy as np\n",
    "import matplotlib.pyplot as plt"
   ]
  },
  {
   "cell_type": "code",
   "execution_count": 3,
   "id": "following-inquiry",
   "metadata": {},
   "outputs": [],
   "source": [
    "assets = [\n",
    "    'SPYUSD', # stocks\n",
    "    'GOLD', # gold\n",
    "    'BTCUSD', # crypto\n",
    "]"
   ]
  },
  {
   "cell_type": "code",
   "execution_count": 6,
   "id": "unavailable-startup",
   "metadata": {},
   "outputs": [],
   "source": [
    "btc = tv.history.bar1d.limit(1000)('BTCUSD')"
   ]
  },
  {
   "cell_type": "code",
   "execution_count": 9,
   "id": "included-powell",
   "metadata": {},
   "outputs": [],
   "source": [
    "chgs = btc.close.pct_change().dropna()"
   ]
  },
  {
   "cell_type": "code",
   "execution_count": 10,
   "id": "ethical-halifax",
   "metadata": {},
   "outputs": [
    {
     "data": {
      "text/plain": [
       "<AxesSubplot:>"
      ]
     },
     "execution_count": 10,
     "metadata": {},
     "output_type": "execute_result"
    },
    {
     "data": {
      "image/png": "[encoded data removed]",
      "text/plain": [
       "<Figure size 432x288 with 1 Axes>"
      ]
     },
     "metadata": {
      "needs_background": "light"
     },
     "output_type": "display_data"
    }
   ],
   "source": [
    "chgs.hist(bins=100)"
   ]
  },
  {
   "cell_type": "code",
   "execution_count": 11,
   "id": "ambient-oregon",
   "metadata": {},
   "outputs": [
    {
     "data": {
      "text/plain": [
       "0.0024692275614658474"
      ]
     },
     "execution_count": 11,
     "metadata": {},
     "output_type": "execute_result"
    }
   ],
   "source": [
    "chgs.mean()"
   ]
  },
  {
   "cell_type": "code",
   "execution_count": null,
   "id": "original-deployment",
   "metadata": {},
   "outputs": [],
   "source": []
  }
 ],
 "metadata": {
  "kernelspec": {
   "display_name": "Python 3",
   "language": "python",
   "name": "python3"
  },
  "language_info": {
   "codemirror_mode": {
    "name": "ipython",
    "version": 3
   },
   "file_extension": ".py",
   "mimetype": "text/x-python",
   "name": "python",
   "nbconvert_exporter": "python",
   "pygments_lexer": "ipython3",
   "version": "3.8.8"
  }
 },
 "nbformat": 4,
 "nbformat_minor": 5
}
