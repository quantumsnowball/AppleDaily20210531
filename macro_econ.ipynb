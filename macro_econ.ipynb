{
 "cells": [
  {
   "cell_type": "code",
   "execution_count": 1,
   "id": "interesting-decrease",
   "metadata": {},
   "outputs": [],
   "source": [
    "import tradingview as tv\n",
    "import pandas as pd\n",
    "import numpy as np\n",
    "import matplotlib.pyplot as plt"
   ]
  },
  {
   "cell_type": "code",
   "execution_count": 3,
   "id": "formal-thousand",
   "metadata": {},
   "outputs": [],
   "source": [
    "m2 = tv.history.bar1d.limit(1000)('M2')"
   ]
  },
  {
   "cell_type": "code",
   "execution_count": 6,
   "id": "veterinary-broad",
   "metadata": {},
   "outputs": [],
   "source": [
    "m2_close = m2.set_index('time').close"
   ]
  },
  {
   "cell_type": "code",
   "execution_count": 7,
   "id": "ceramic-print",
   "metadata": {},
   "outputs": [
    {
     "data": {
      "text/plain": [
       "<AxesSubplot:xlabel='time'>"
      ]
     },
     "execution_count": 7,
     "metadata": {},
     "output_type": "execute_result"
    },
    {
     "data": {
      "image/png": "[encoded data removed]",
      "text/plain": [
       "<Figure size 432x288 with 1 Axes>"
      ]
     },
     "metadata": {
      "needs_background": "light"
     },
     "output_type": "display_data"
    }
   ],
   "source": [
    "m2_close.plot()"
   ]
  },
  {
   "cell_type": "code",
   "execution_count": 8,
   "id": "destroyed-entity",
   "metadata": {},
   "outputs": [
    {
     "data": {
      "text/plain": [
       "<AxesSubplot:xlabel='time'>"
      ]
     },
     "execution_count": 8,
     "metadata": {},
     "output_type": "execute_result"
    },
    {
     "data": {
      "image/png": "[encoded data removed]",
      "text/plain": [
       "<Figure size 432x288 with 1 Axes>"
      ]
     },
     "metadata": {
      "needs_background": "light"
     },
     "output_type": "display_data"
    }
   ],
   "source": [
    "np.log(m2_close).plot()"
   ]
  },
  {
   "cell_type": "code",
   "execution_count": 10,
   "id": "visible-arkansas",
   "metadata": {},
   "outputs": [],
   "source": [
    "m2_chgs = m2.close.pct_change().dropna()"
   ]
  },
  {
   "cell_type": "code",
   "execution_count": 11,
   "id": "incomplete-daughter",
   "metadata": {},
   "outputs": [
    {
     "data": {
      "text/plain": [
       "<AxesSubplot:>"
      ]
     },
     "execution_count": 11,
     "metadata": {},
     "output_type": "execute_result"
    },
    {
     "data": {
      "image/png": "[encoded data removed]",
      "text/plain": [
       "<Figure size 432x288 with 1 Axes>"
      ]
     },
     "metadata": {
      "needs_background": "light"
     },
     "output_type": "display_data"
    }
   ],
   "source": [
    "m2_chgs.hist(bins=100)"
   ]
  },
  {
   "cell_type": "code",
   "execution_count": 15,
   "id": "homeless-drinking",
   "metadata": {},
   "outputs": [
    {
     "data": {
      "text/plain": [
       "0.06658987174899698"
      ]
     },
     "execution_count": 15,
     "metadata": {},
     "output_type": "execute_result"
    }
   ],
   "source": [
    "m2_chgs.mean()*52"
   ]
  },
  {
   "cell_type": "code",
   "execution_count": 14,
   "id": "opponent-separate",
   "metadata": {},
   "outputs": [
    {
     "data": {
      "text/html": [
       "<div>\n",
       "<style scoped>\n",
       "    .dataframe tbody tr th:only-of-type {\n",
       "        vertical-align: middle;\n",
       "    }\n",
       "\n",
       "    .dataframe tbody tr th {\n",
       "        vertical-align: top;\n",
       "    }\n",
       "\n",
       "    .dataframe thead th {\n",
       "        text-align: right;\n",
       "    }\n",
       "</style>\n",
       "<table border=\"1\" class=\"dataframe\">\n",
       "  <thead>\n",
       "    <tr style=\"text-align: right;\">\n",
       "      <th></th>\n",
       "      <th>time</th>\n",
       "      <th>open</th>\n",
       "      <th>high</th>\n",
       "      <th>low</th>\n",
       "      <th>close</th>\n",
       "      <th>volume</th>\n",
       "    </tr>\n",
       "  </thead>\n",
       "  <tbody>\n",
       "    <tr>\n",
       "      <th>0</th>\n",
       "      <td>2001-12-10</td>\n",
       "      <td>5425.1</td>\n",
       "      <td>5425.1</td>\n",
       "      <td>5425.1</td>\n",
       "      <td>5425.1</td>\n",
       "      <td>0.0</td>\n",
       "    </tr>\n",
       "    <tr>\n",
       "      <th>1</th>\n",
       "      <td>2001-12-17</td>\n",
       "      <td>5442.5</td>\n",
       "      <td>5442.5</td>\n",
       "      <td>5442.5</td>\n",
       "      <td>5442.5</td>\n",
       "      <td>0.0</td>\n",
       "    </tr>\n",
       "    <tr>\n",
       "      <th>2</th>\n",
       "      <td>2001-12-24</td>\n",
       "      <td>5430.8</td>\n",
       "      <td>5430.8</td>\n",
       "      <td>5430.8</td>\n",
       "      <td>5430.8</td>\n",
       "      <td>0.0</td>\n",
       "    </tr>\n",
       "    <tr>\n",
       "      <th>3</th>\n",
       "      <td>2001-12-31</td>\n",
       "      <td>5450.0</td>\n",
       "      <td>5450.0</td>\n",
       "      <td>5450.0</td>\n",
       "      <td>5450.0</td>\n",
       "      <td>0.0</td>\n",
       "    </tr>\n",
       "    <tr>\n",
       "      <th>4</th>\n",
       "      <td>2002-01-07</td>\n",
       "      <td>5448.2</td>\n",
       "      <td>5448.2</td>\n",
       "      <td>5448.2</td>\n",
       "      <td>5448.2</td>\n",
       "      <td>0.0</td>\n",
       "    </tr>\n",
       "    <tr>\n",
       "      <th>...</th>\n",
       "      <td>...</td>\n",
       "      <td>...</td>\n",
       "      <td>...</td>\n",
       "      <td>...</td>\n",
       "      <td>...</td>\n",
       "      <td>...</td>\n",
       "    </tr>\n",
       "    <tr>\n",
       "      <th>995</th>\n",
       "      <td>2021-01-04</td>\n",
       "      <td>19081.0</td>\n",
       "      <td>19081.0</td>\n",
       "      <td>19081.0</td>\n",
       "      <td>19081.0</td>\n",
       "      <td>0.0</td>\n",
       "    </tr>\n",
       "    <tr>\n",
       "      <th>996</th>\n",
       "      <td>2021-01-11</td>\n",
       "      <td>19453.9</td>\n",
       "      <td>19453.9</td>\n",
       "      <td>19453.9</td>\n",
       "      <td>19453.9</td>\n",
       "      <td>0.0</td>\n",
       "    </tr>\n",
       "    <tr>\n",
       "      <th>997</th>\n",
       "      <td>2021-01-18</td>\n",
       "      <td>19470.0</td>\n",
       "      <td>19470.0</td>\n",
       "      <td>19470.0</td>\n",
       "      <td>19470.0</td>\n",
       "      <td>0.0</td>\n",
       "    </tr>\n",
       "    <tr>\n",
       "      <th>998</th>\n",
       "      <td>2021-01-25</td>\n",
       "      <td>19419.6</td>\n",
       "      <td>19419.6</td>\n",
       "      <td>19419.6</td>\n",
       "      <td>19419.6</td>\n",
       "      <td>0.0</td>\n",
       "    </tr>\n",
       "    <tr>\n",
       "      <th>999</th>\n",
       "      <td>2021-02-01</td>\n",
       "      <td>19417.7</td>\n",
       "      <td>19417.7</td>\n",
       "      <td>19417.7</td>\n",
       "      <td>19417.7</td>\n",
       "      <td>0.0</td>\n",
       "    </tr>\n",
       "  </tbody>\n",
       "</table>\n",
       "<p>1000 rows × 6 columns</p>\n",
       "</div>"
      ],
      "text/plain": [
       "          time     open     high      low    close  volume\n",
       "0   2001-12-10   5425.1   5425.1   5425.1   5425.1     0.0\n",
       "1   2001-12-17   5442.5   5442.5   5442.5   5442.5     0.0\n",
       "2   2001-12-24   5430.8   5430.8   5430.8   5430.8     0.0\n",
       "3   2001-12-31   5450.0   5450.0   5450.0   5450.0     0.0\n",
       "4   2002-01-07   5448.2   5448.2   5448.2   5448.2     0.0\n",
       "..         ...      ...      ...      ...      ...     ...\n",
       "995 2021-01-04  19081.0  19081.0  19081.0  19081.0     0.0\n",
       "996 2021-01-11  19453.9  19453.9  19453.9  19453.9     0.0\n",
       "997 2021-01-18  19470.0  19470.0  19470.0  19470.0     0.0\n",
       "998 2021-01-25  19419.6  19419.6  19419.6  19419.6     0.0\n",
       "999 2021-02-01  19417.7  19417.7  19417.7  19417.7     0.0\n",
       "\n",
       "[1000 rows x 6 columns]"
      ]
     },
     "execution_count": 14,
     "metadata": {},
     "output_type": "execute_result"
    }
   ],
   "source": [
    "m2"
   ]
  },
  {
   "cell_type": "code",
   "execution_count": null,
   "id": "electric-ground",
   "metadata": {},
   "outputs": [],
   "source": []
  }
 ],
 "metadata": {
  "kernelspec": {
   "display_name": "Python 3",
   "language": "python",
   "name": "python3"
  },
  "language_info": {
   "codemirror_mode": {
    "name": "ipython",
    "version": 3
   },
   "file_extension": ".py",
   "mimetype": "text/x-python",
   "name": "python",
   "nbconvert_exporter": "python",
   "pygments_lexer": "ipython3",
   "version": "3.8.8"
  }
 },
 "nbformat": 4,
 "nbformat_minor": 5
}
