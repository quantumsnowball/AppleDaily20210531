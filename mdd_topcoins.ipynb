{
 "cells": [
  {
   "cell_type": "code",
   "execution_count": 16,
   "id": "dense-seattle",
   "metadata": {},
   "outputs": [],
   "source": [
    "import cryptocompare as cp\n",
    "import tradingview as tv\n",
    "import numpy as np\n",
    "import pandas as pd\n",
    "import re"
   ]
  },
  {
   "cell_type": "code",
   "execution_count": 31,
   "id": "nearby-youth",
   "metadata": {},
   "outputs": [],
   "source": [
    "coinlist = cp.coinlist.limit(20)()"
   ]
  },
  {
   "cell_type": "code",
   "execution_count": 32,
   "id": "interesting-thumbnail",
   "metadata": {},
   "outputs": [],
   "source": [
    "coin_top10 = re.sub(r'(?:USDT|USDC)\\s?', '', coinlist).split(' ')[:10]"
   ]
  },
  {
   "cell_type": "code",
   "execution_count": 33,
   "id": "blind-mayor",
   "metadata": {},
   "outputs": [
    {
     "data": {
      "text/plain": [
       "['BTC', 'ETH', 'XRP', 'BNB', 'ADA', 'DOGE', 'LINK', 'UNI', 'DOT', 'XLM']"
      ]
     },
     "execution_count": 33,
     "metadata": {},
     "output_type": "execute_result"
    }
   ],
   "source": [
    "coin_top10"
   ]
  },
  {
   "cell_type": "code",
   "execution_count": 35,
   "id": "destroyed-allocation",
   "metadata": {},
   "outputs": [],
   "source": [
    "metrics = tv.summary.bar1d['2021-05-01':](' '.join(coin_top10))"
   ]
  },
  {
   "cell_type": "code",
   "execution_count": 37,
   "id": "directed-serial",
   "metadata": {},
   "outputs": [
    {
     "data": {
      "text/plain": [
       "BTC    -0.502\n",
       "ETH    -0.605\n",
       "XRP    -0.625\n",
       "BNB    -0.701\n",
       "ADA    -0.635\n",
       "DOGE   -0.743\n",
       "LINK   -0.249\n",
       "UNI    -0.121\n",
       "DOT    -0.732\n",
       "XLM    -0.654\n",
       "Name: mdd, dtype: float64"
      ]
     },
     "execution_count": 37,
     "metadata": {},
     "output_type": "execute_result"
    }
   ],
   "source": [
    "metrics.mdd"
   ]
  }
 ],
 "metadata": {
  "kernelspec": {
   "display_name": "Python 3",
   "language": "python",
   "name": "python3"
  },
  "language_info": {
   "codemirror_mode": {
    "name": "ipython",
    "version": 3
   },
   "file_extension": ".py",
   "mimetype": "text/x-python",
   "name": "python",
   "nbconvert_exporter": "python",
   "pygments_lexer": "ipython3",
   "version": "3.8.8"
  }
 },
 "nbformat": 4,
 "nbformat_minor": 5
}
